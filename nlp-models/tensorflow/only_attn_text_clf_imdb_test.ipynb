{
 "cells": [
  {
   "cell_type": "code",
   "execution_count": 1,
   "metadata": {},
   "outputs": [
    {
     "name": "stdout",
     "output_type": "stream",
     "text": [
      "X_train shape: (25000, 500) X_test shape: (25000, 500)\n",
      "Train 25000 samples | Test 25000 samples\n",
      "Epoch 1/2 | Step 50/390 | train_loss: 0.5858 | train_acc: 0.7656 | lr: 0.0045\n",
      "Epoch 1/2 | Step 100/390 | train_loss: 0.3889 | train_acc: 0.8594 | lr: 0.0041\n",
      "Epoch 1/2 | Step 150/390 | train_loss: 0.3017 | train_acc: 0.8906 | lr: 0.0037\n",
      "Epoch 1/2 | Step 200/390 | train_loss: 0.3060 | train_acc: 0.8438 | lr: 0.0033\n",
      "Epoch 1/2 | Step 250/390 | train_loss: 0.3694 | train_acc: 0.8281 | lr: 0.0030\n",
      "Epoch 1/2 | Step 300/390 | train_loss: 0.2291 | train_acc: 0.9062 | lr: 0.0027\n",
      "Epoch 1/2 | Step 350/390 | train_loss: 0.3638 | train_acc: 0.8438 | lr: 0.0024\n",
      "Epoch 1/2 | train_loss: 0.1643 | train_acc: 0.9500 | test_loss: 0.2661 | test_acc: 0.8920 | lr: 0.0022\n",
      "Epoch 2/2 | Step 50/390 | train_loss: 0.2585 | train_acc: 0.8750 | lr: 0.0020\n",
      "Epoch 2/2 | Step 100/390 | train_loss: 0.2352 | train_acc: 0.9062 | lr: 0.0018\n",
      "Epoch 2/2 | Step 150/390 | train_loss: 0.2268 | train_acc: 0.9375 | lr: 0.0016\n",
      "Epoch 2/2 | Step 200/390 | train_loss: 0.1149 | train_acc: 0.9688 | lr: 0.0015\n",
      "Epoch 2/2 | Step 250/390 | train_loss: 0.3164 | train_acc: 0.8906 | lr: 0.0013\n",
      "Epoch 2/2 | Step 300/390 | train_loss: 0.2616 | train_acc: 0.8594 | lr: 0.0012\n",
      "Epoch 2/2 | Step 350/390 | train_loss: 0.2252 | train_acc: 0.8750 | lr: 0.0011\n",
      "Epoch 2/2 | train_loss: 0.2086 | train_acc: 0.9500 | test_loss: 0.2697 | test_acc: 0.8915 | lr: 0.0010\n",
      "             precision    recall  f1-score   support\n",
      "\n",
      "          0       0.90      0.89      0.89     12500\n",
      "          1       0.89      0.90      0.89     12500\n",
      "\n",
      "avg / total       0.89      0.89      0.89     25000\n",
      "\n"
     ]
    }
   ],
   "source": [
    "from only_attn_text_clf import OnlyAttentionClassifier\n",
    "from sklearn.metrics import classification_report\n",
    "import tensorflow as tf\n",
    "import numpy as np\n",
    "\n",
    "\n",
    "vocab_size = 10000\n",
    "seq_len = 500\n",
    "n_out = 2\n",
    "\n",
    "\n",
    "if __name__ == '__main__':\n",
    "    (X_train, y_train), (X_test, y_test) = tf.keras.datasets.imdb.load_data(num_words=vocab_size)\n",
    "\n",
    "    X_train = tf.keras.preprocessing.sequence.pad_sequences(X_train, maxlen=seq_len, padding='post')\n",
    "    X_test = tf.keras.preprocessing.sequence.pad_sequences(X_test, maxlen=seq_len, padding='post')\n",
    "    print('X_train shape:', X_train.shape, 'X_test shape:', X_test.shape)\n",
    "\n",
    "    clf = OnlyAttentionClassifier(seq_len, vocab_size, n_out)\n",
    "    log = clf.fit(X_train, y_train, n_epoch=2, batch_size=64, keep_prob=0.8, en_exp_decay=True,\n",
    "                  val_data=(X_test, y_test))\n",
    "    \n",
    "    print(classification_report(y_test, clf.predict(X_test)))"
   ]
  },
  {
   "cell_type": "code",
   "execution_count": null,
   "metadata": {},
   "outputs": [],
   "source": []
  }
 ],
 "metadata": {
  "kernelspec": {
   "display_name": "Python 3",
   "language": "python",
   "name": "python3"
  },
  "language_info": {
   "codemirror_mode": {
    "name": "ipython",
    "version": 3
   },
   "file_extension": ".py",
   "mimetype": "text/x-python",
   "name": "python",
   "nbconvert_exporter": "python",
   "pygments_lexer": "ipython3",
   "version": "3.6.3"
  }
 },
 "nbformat": 4,
 "nbformat_minor": 2
}
