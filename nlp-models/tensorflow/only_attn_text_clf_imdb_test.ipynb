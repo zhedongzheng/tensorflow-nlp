{
 "cells": [
  {
   "cell_type": "code",
   "execution_count": 1,
   "metadata": {},
   "outputs": [
    {
     "name": "stdout",
     "output_type": "stream",
     "text": [
      "X_train shape: (25000, 500) X_test shape: (25000, 500)\n",
      "Train 25000 samples | Test 25000 samples\n",
      "Epoch 1/2 | Step 0/781 | train_loss: 0.7301 | train_acc: 0.4375 | lr: 0.0050\n",
      "Epoch 1/2 | Step 50/781 | train_loss: 0.6432 | train_acc: 0.6562 | lr: 0.0047\n",
      "Epoch 1/2 | Step 100/781 | train_loss: 0.4764 | train_acc: 0.8438 | lr: 0.0045\n",
      "Epoch 1/2 | Step 150/781 | train_loss: 0.3471 | train_acc: 0.8438 | lr: 0.0043\n",
      "Epoch 1/2 | Step 200/781 | train_loss: 0.5448 | train_acc: 0.8125 | lr: 0.0041\n",
      "Epoch 1/2 | Step 250/781 | train_loss: 0.3969 | train_acc: 0.7812 | lr: 0.0039\n",
      "Epoch 1/2 | Step 300/781 | train_loss: 0.3320 | train_acc: 0.8438 | lr: 0.0037\n",
      "Epoch 1/2 | Step 350/781 | train_loss: 0.2219 | train_acc: 0.8438 | lr: 0.0035\n",
      "Epoch 1/2 | Step 400/781 | train_loss: 0.3313 | train_acc: 0.8750 | lr: 0.0033\n",
      "Epoch 1/2 | Step 450/781 | train_loss: 0.2048 | train_acc: 0.9062 | lr: 0.0031\n",
      "Epoch 1/2 | Step 500/781 | train_loss: 0.1463 | train_acc: 0.9375 | lr: 0.0030\n",
      "Epoch 1/2 | Step 550/781 | train_loss: 0.5692 | train_acc: 0.7500 | lr: 0.0028\n",
      "Epoch 1/2 | Step 600/781 | train_loss: 0.2696 | train_acc: 0.8438 | lr: 0.0027\n",
      "Epoch 1/2 | Step 650/781 | train_loss: 0.3232 | train_acc: 0.8438 | lr: 0.0026\n",
      "Epoch 1/2 | Step 700/781 | train_loss: 0.3467 | train_acc: 0.8125 | lr: 0.0024\n",
      "Epoch 1/2 | Step 750/781 | train_loss: 0.2331 | train_acc: 0.9062 | lr: 0.0023\n",
      "Epoch 1/2 | train_loss: 0.0752 | train_acc: 1.0000 | test_loss: 0.2722 | test_acc: 0.8895 | lr: 0.0022\n",
      "Epoch 2/2 | Step 0/781 | train_loss: 0.2554 | train_acc: 0.8750 | lr: 0.0022\n",
      "Epoch 2/2 | Step 50/781 | train_loss: 0.0722 | train_acc: 1.0000 | lr: 0.0021\n",
      "Epoch 2/2 | Step 100/781 | train_loss: 0.4234 | train_acc: 0.7500 | lr: 0.0020\n",
      "Epoch 2/2 | Step 150/781 | train_loss: 0.0908 | train_acc: 1.0000 | lr: 0.0019\n",
      "Epoch 2/2 | Step 200/781 | train_loss: 0.0979 | train_acc: 1.0000 | lr: 0.0018\n",
      "Epoch 2/2 | Step 250/781 | train_loss: 0.3334 | train_acc: 0.8750 | lr: 0.0017\n",
      "Epoch 2/2 | Step 300/781 | train_loss: 0.1091 | train_acc: 1.0000 | lr: 0.0016\n",
      "Epoch 2/2 | Step 350/781 | train_loss: 0.2120 | train_acc: 0.8750 | lr: 0.0016\n",
      "Epoch 2/2 | Step 400/781 | train_loss: 0.2222 | train_acc: 0.8750 | lr: 0.0015\n",
      "Epoch 2/2 | Step 450/781 | train_loss: 0.2891 | train_acc: 0.9062 | lr: 0.0014\n",
      "Epoch 2/2 | Step 500/781 | train_loss: 0.1658 | train_acc: 0.9688 | lr: 0.0013\n",
      "Epoch 2/2 | Step 550/781 | train_loss: 0.1269 | train_acc: 0.9375 | lr: 0.0013\n",
      "Epoch 2/2 | Step 600/781 | train_loss: 0.1285 | train_acc: 0.9375 | lr: 0.0012\n",
      "Epoch 2/2 | Step 650/781 | train_loss: 0.2308 | train_acc: 0.9062 | lr: 0.0011\n",
      "Epoch 2/2 | Step 700/781 | train_loss: 0.2493 | train_acc: 0.9062 | lr: 0.0011\n",
      "Epoch 2/2 | Step 750/781 | train_loss: 0.5203 | train_acc: 0.8750 | lr: 0.0010\n",
      "Epoch 2/2 | train_loss: 0.2183 | train_acc: 0.8750 | test_loss: 0.2761 | test_acc: 0.8879 | lr: 0.0010\n",
      "             precision    recall  f1-score   support\n",
      "\n",
      "          0       0.89      0.89      0.89     12500\n",
      "          1       0.89      0.89      0.89     12500\n",
      "\n",
      "avg / total       0.89      0.89      0.89     25000\n",
      "\n"
     ]
    }
   ],
   "source": [
    "from only_attn_text_clf import OnlyAttentionClassifier\n",
    "from sklearn.metrics import classification_report\n",
    "import tensorflow as tf\n",
    "import numpy as np\n",
    "\n",
    "\n",
    "vocab_size = 10000\n",
    "seq_len = 500\n",
    "n_out = 2\n",
    "\n",
    "\n",
    "if __name__ == '__main__':\n",
    "    (X_train, y_train), (X_test, y_test) = tf.keras.datasets.imdb.load_data(num_words=vocab_size)\n",
    "\n",
    "    X_train = tf.keras.preprocessing.sequence.pad_sequences(X_train, maxlen=seq_len, padding='post')\n",
    "    X_test = tf.keras.preprocessing.sequence.pad_sequences(X_test, maxlen=seq_len, padding='post')\n",
    "    print('X_train shape:', X_train.shape, 'X_test shape:', X_test.shape)\n",
    "\n",
    "    clf = OnlyAttentionClassifier(seq_len, vocab_size, n_out)\n",
    "    log = clf.fit(X_train, y_train, n_epoch=2, batch_size=32, keep_prob=0.8, en_exp_decay=True,\n",
    "                  val_data=(X_test, y_test))\n",
    "    \n",
    "    print(classification_report(y_test, clf.predict(X_test)))"
   ]
  },
  {
   "cell_type": "code",
   "execution_count": null,
   "metadata": {},
   "outputs": [],
   "source": []
  }
 ],
 "metadata": {
  "kernelspec": {
   "display_name": "Python 3",
   "language": "python",
   "name": "python3"
  },
  "language_info": {
   "codemirror_mode": {
    "name": "ipython",
    "version": 3
   },
   "file_extension": ".py",
   "mimetype": "text/x-python",
   "name": "python",
   "nbconvert_exporter": "python",
   "pygments_lexer": "ipython3",
   "version": "3.6.3"
  }
 },
 "nbformat": 4,
 "nbformat_minor": 2
}
