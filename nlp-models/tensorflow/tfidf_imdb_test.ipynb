{
 "cells": [
  {
   "cell_type": "code",
   "execution_count": 1,
   "metadata": {},
   "outputs": [
    {
     "name": "stdout",
     "output_type": "stream",
     "text": [
      "4.29 secs ==> Document-Term Matrix\n",
      "37.73 secs ==> TF-IDF transform\n",
      "4.37 secs ==> Document-Term Matrix\n",
      "29.20 secs ==> TF-IDF transform\n",
      "Train (25000, 50000) | Test (25000, 50000)\n",
      "Epoch 1/4 | Step 50/390 | train_loss: 0.6247 | train_acc: 0.7969 | lr: 0.0050\n",
      "Epoch 1/4 | Step 100/390 | train_loss: 0.5613 | train_acc: 0.8594 | lr: 0.0050\n",
      "Epoch 1/4 | Step 150/390 | train_loss: 0.5235 | train_acc: 0.8281 | lr: 0.0050\n",
      "Epoch 1/4 | Step 200/390 | train_loss: 0.4868 | train_acc: 0.8125 | lr: 0.0050\n",
      "Epoch 1/4 | Step 250/390 | train_loss: 0.4666 | train_acc: 0.8750 | lr: 0.0050\n",
      "Epoch 1/4 | Step 300/390 | train_loss: 0.3884 | train_acc: 0.9219 | lr: 0.0050\n",
      "Epoch 1/4 | Step 350/390 | train_loss: 0.4240 | train_acc: 0.8281 | lr: 0.0050\n",
      "Epoch 1/4 | train_loss: 0.3725 | train_acc: 0.9000 | test_loss: 0.3878 | test_acc: 0.8748 | lr: 0.0050\n",
      "Epoch 2/4 | Step 50/390 | train_loss: 0.3390 | train_acc: 0.8906 | lr: 0.0050\n",
      "Epoch 2/4 | Step 100/390 | train_loss: 0.3726 | train_acc: 0.8281 | lr: 0.0050\n",
      "Epoch 2/4 | Step 150/390 | train_loss: 0.2869 | train_acc: 0.9688 | lr: 0.0050\n",
      "Epoch 2/4 | Step 200/390 | train_loss: 0.2367 | train_acc: 0.9688 | lr: 0.0050\n",
      "Epoch 2/4 | Step 250/390 | train_loss: 0.3242 | train_acc: 0.8906 | lr: 0.0050\n",
      "Epoch 2/4 | Step 300/390 | train_loss: 0.3313 | train_acc: 0.8438 | lr: 0.0050\n",
      "Epoch 2/4 | Step 350/390 | train_loss: 0.2814 | train_acc: 0.8906 | lr: 0.0050\n",
      "Epoch 2/4 | train_loss: 0.3015 | train_acc: 0.9000 | test_loss: 0.3243 | test_acc: 0.8851 | lr: 0.0050\n",
      "Epoch 3/4 | Step 50/390 | train_loss: 0.1898 | train_acc: 0.9844 | lr: 0.0050\n",
      "Epoch 3/4 | Step 100/390 | train_loss: 0.1815 | train_acc: 0.9688 | lr: 0.0050\n",
      "Epoch 3/4 | Step 150/390 | train_loss: 0.2063 | train_acc: 0.9688 | lr: 0.0050\n",
      "Epoch 3/4 | Step 200/390 | train_loss: 0.2614 | train_acc: 0.9375 | lr: 0.0050\n",
      "Epoch 3/4 | Step 250/390 | train_loss: 0.2299 | train_acc: 0.8906 | lr: 0.0050\n",
      "Epoch 3/4 | Step 300/390 | train_loss: 0.2202 | train_acc: 0.9219 | lr: 0.0050\n",
      "Epoch 3/4 | Step 350/390 | train_loss: 0.2003 | train_acc: 0.9219 | lr: 0.0050\n",
      "Epoch 3/4 | train_loss: 0.1812 | train_acc: 0.9500 | test_loss: 0.2985 | test_acc: 0.8883 | lr: 0.0050\n",
      "Epoch 4/4 | Step 50/390 | train_loss: 0.2319 | train_acc: 0.9375 | lr: 0.0050\n",
      "Epoch 4/4 | Step 100/390 | train_loss: 0.2200 | train_acc: 0.9375 | lr: 0.0050\n",
      "Epoch 4/4 | Step 150/390 | train_loss: 0.1917 | train_acc: 0.9375 | lr: 0.0050\n",
      "Epoch 4/4 | Step 200/390 | train_loss: 0.1541 | train_acc: 0.9688 | lr: 0.0050\n",
      "Epoch 4/4 | Step 250/390 | train_loss: 0.1847 | train_acc: 0.9531 | lr: 0.0050\n",
      "Epoch 4/4 | Step 300/390 | train_loss: 0.2092 | train_acc: 0.9844 | lr: 0.0050\n",
      "Epoch 4/4 | Step 350/390 | train_loss: 0.1647 | train_acc: 0.9531 | lr: 0.0050\n",
      "Epoch 4/4 | train_loss: 0.1724 | train_acc: 0.9500 | test_loss: 0.2859 | test_acc: 0.8887 | lr: 0.0050\n",
      "             precision    recall  f1-score   support\n",
      "\n",
      "          0       0.89      0.88      0.89     12500\n",
      "          1       0.89      0.89      0.89     12500\n",
      "\n",
      "avg / total       0.89      0.89      0.89     25000\n",
      "\n"
     ]
    }
   ],
   "source": [
    "import tensorflow as tf\n",
    "import numpy as np\n",
    "import time\n",
    "\n",
    "from logistic_regression import LogisticRegression\n",
    "from sklearn.feature_extraction.text import TfidfTransformer\n",
    "from sklearn.metrics import classification_report\n",
    "\n",
    "\n",
    "VOCAB_SIZE = 50000\n",
    "\n",
    "\n",
    "def transform(X, tfidf):\n",
    "    t0 = time.time()\n",
    "    count = np.zeros((len(X), VOCAB_SIZE))\n",
    "    for i, indices in enumerate(X):\n",
    "        for idx in indices:\n",
    "            count[i, idx] += 1\n",
    "    print(\"%.2f secs ==> Document-Term Matrix\"%(time.time()-t0))\n",
    "\n",
    "    t0 = time.time()\n",
    "    X = tfidf.fit_transform(count)\n",
    "    print(\"%.2f secs ==> TF-IDF transform\"%(time.time()-t0))\n",
    "    return X\n",
    "\n",
    "\n",
    "if __name__ == '__main__':\n",
    "    (X_train, y_train), (X_test, y_test) = tf.keras.datasets.imdb.load_data(\n",
    "        num_words=VOCAB_SIZE)\n",
    "    \n",
    "    tfidf = TfidfTransformer()\n",
    "    X_train = transform(X_train, tfidf)\n",
    "    X_test = transform(X_test, tfidf)\n",
    "\n",
    "    model = LogisticRegression(VOCAB_SIZE, 2)\n",
    "    model.fit(X_train, y_train, n_epoch=4, batch_size=64, val_data=(X_test, y_test))\n",
    "    \n",
    "    print(classification_report(y_test, model.predict(X_test)))"
   ]
  },
  {
   "cell_type": "code",
   "execution_count": null,
   "metadata": {},
   "outputs": [],
   "source": []
  }
 ],
 "metadata": {
  "kernelspec": {
   "display_name": "Python 3",
   "language": "python",
   "name": "python3"
  },
  "language_info": {
   "codemirror_mode": {
    "name": "ipython",
    "version": 3
   },
   "file_extension": ".py",
   "mimetype": "text/x-python",
   "name": "python",
   "nbconvert_exporter": "python",
   "pygments_lexer": "ipython3",
   "version": "3.6.3"
  }
 },
 "nbformat": 4,
 "nbformat_minor": 2
}
