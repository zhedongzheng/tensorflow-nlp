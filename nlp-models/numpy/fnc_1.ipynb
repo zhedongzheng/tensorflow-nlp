{
 "cells": [
  {
   "cell_type": "code",
   "execution_count": 1,
   "metadata": {},
   "outputs": [],
   "source": [
    "%matplotlib inline\n",
    "\n",
    "from __future__ import print_function, division\n",
    "from collections import Counter\n",
    "\n",
    "import pandas as pd\n",
    "import numpy as np\n",
    "import re\n",
    "import time\n",
    "import matplotlib.pyplot as plt"
   ]
  },
  {
   "cell_type": "markdown",
   "metadata": {},
   "source": [
    "## Preprocessing Data"
   ]
  },
  {
   "cell_type": "code",
   "execution_count": 2,
   "metadata": {},
   "outputs": [
    {
     "name": "stdout",
     "output_type": "stream",
     "text": [
      "49972 Training Data\n"
     ]
    },
    {
     "data": {
      "text/html": [
       "<div>\n",
       "<style scoped>\n",
       "    .dataframe tbody tr th:only-of-type {\n",
       "        vertical-align: middle;\n",
       "    }\n",
       "\n",
       "    .dataframe tbody tr th {\n",
       "        vertical-align: top;\n",
       "    }\n",
       "\n",
       "    .dataframe thead th {\n",
       "        text-align: right;\n",
       "    }\n",
       "</style>\n",
       "<table border=\"1\" class=\"dataframe\">\n",
       "  <thead>\n",
       "    <tr style=\"text-align: right;\">\n",
       "      <th></th>\n",
       "      <th>Body ID</th>\n",
       "      <th>articleBody</th>\n",
       "      <th>Headline</th>\n",
       "      <th>Stance</th>\n",
       "    </tr>\n",
       "  </thead>\n",
       "  <tbody>\n",
       "    <tr>\n",
       "      <th>0</th>\n",
       "      <td>0</td>\n",
       "      <td>A small meteorite crashed into a wooded area i...</td>\n",
       "      <td>Soldier shot, Parliament locked down after gun...</td>\n",
       "      <td>unrelated</td>\n",
       "    </tr>\n",
       "    <tr>\n",
       "      <th>1</th>\n",
       "      <td>0</td>\n",
       "      <td>A small meteorite crashed into a wooded area i...</td>\n",
       "      <td>Tourist dubbed ‘Spider Man’ after spider burro...</td>\n",
       "      <td>unrelated</td>\n",
       "    </tr>\n",
       "    <tr>\n",
       "      <th>2</th>\n",
       "      <td>0</td>\n",
       "      <td>A small meteorite crashed into a wooded area i...</td>\n",
       "      <td>Luke Somers 'killed in failed rescue attempt i...</td>\n",
       "      <td>unrelated</td>\n",
       "    </tr>\n",
       "    <tr>\n",
       "      <th>3</th>\n",
       "      <td>0</td>\n",
       "      <td>A small meteorite crashed into a wooded area i...</td>\n",
       "      <td>BREAKING: Soldier shot at War Memorial in Ottawa</td>\n",
       "      <td>unrelated</td>\n",
       "    </tr>\n",
       "    <tr>\n",
       "      <th>4</th>\n",
       "      <td>0</td>\n",
       "      <td>A small meteorite crashed into a wooded area i...</td>\n",
       "      <td>Giant 8ft 9in catfish weighing 19 stone caught...</td>\n",
       "      <td>unrelated</td>\n",
       "    </tr>\n",
       "  </tbody>\n",
       "</table>\n",
       "</div>"
      ],
      "text/plain": [
       "   Body ID                                        articleBody  \\\n",
       "0        0  A small meteorite crashed into a wooded area i...   \n",
       "1        0  A small meteorite crashed into a wooded area i...   \n",
       "2        0  A small meteorite crashed into a wooded area i...   \n",
       "3        0  A small meteorite crashed into a wooded area i...   \n",
       "4        0  A small meteorite crashed into a wooded area i...   \n",
       "\n",
       "                                            Headline     Stance  \n",
       "0  Soldier shot, Parliament locked down after gun...  unrelated  \n",
       "1  Tourist dubbed ‘Spider Man’ after spider burro...  unrelated  \n",
       "2  Luke Somers 'killed in failed rescue attempt i...  unrelated  \n",
       "3   BREAKING: Soldier shot at War Memorial in Ottawa  unrelated  \n",
       "4  Giant 8ft 9in catfish weighing 19 stone caught...  unrelated  "
      ]
     },
     "execution_count": 2,
     "metadata": {},
     "output_type": "execute_result"
    }
   ],
   "source": [
    "train_bodies = pd.read_csv('./data/train_bodies.csv')\n",
    "train_stances = pd.read_csv('./data/train_stances.csv')\n",
    "df_train = pd.merge(train_bodies, train_stances, on=['Body ID'])\n",
    "print(\"%d Training Data\"%len(df_train))\n",
    "df_train.head()"
   ]
  },
  {
   "cell_type": "code",
   "execution_count": 3,
   "metadata": {},
   "outputs": [
    {
     "name": "stdout",
     "output_type": "stream",
     "text": [
      "25413 Testing Data\n"
     ]
    },
    {
     "data": {
      "text/html": [
       "<div>\n",
       "<style scoped>\n",
       "    .dataframe tbody tr th:only-of-type {\n",
       "        vertical-align: middle;\n",
       "    }\n",
       "\n",
       "    .dataframe tbody tr th {\n",
       "        vertical-align: top;\n",
       "    }\n",
       "\n",
       "    .dataframe thead th {\n",
       "        text-align: right;\n",
       "    }\n",
       "</style>\n",
       "<table border=\"1\" class=\"dataframe\">\n",
       "  <thead>\n",
       "    <tr style=\"text-align: right;\">\n",
       "      <th></th>\n",
       "      <th>Body ID</th>\n",
       "      <th>articleBody</th>\n",
       "      <th>Headline</th>\n",
       "      <th>Stance</th>\n",
       "    </tr>\n",
       "  </thead>\n",
       "  <tbody>\n",
       "    <tr>\n",
       "      <th>0</th>\n",
       "      <td>1</td>\n",
       "      <td>Al-Sisi has denied Israeli reports stating tha...</td>\n",
       "      <td>Apple installing safes in-store to protect gol...</td>\n",
       "      <td>unrelated</td>\n",
       "    </tr>\n",
       "    <tr>\n",
       "      <th>1</th>\n",
       "      <td>1</td>\n",
       "      <td>Al-Sisi has denied Israeli reports stating tha...</td>\n",
       "      <td>El-Sisi denies claims he'll give Sinai land to...</td>\n",
       "      <td>agree</td>\n",
       "    </tr>\n",
       "    <tr>\n",
       "      <th>2</th>\n",
       "      <td>1</td>\n",
       "      <td>Al-Sisi has denied Israeli reports stating tha...</td>\n",
       "      <td>Apple to keep gold Watch Editions in special i...</td>\n",
       "      <td>unrelated</td>\n",
       "    </tr>\n",
       "    <tr>\n",
       "      <th>3</th>\n",
       "      <td>1</td>\n",
       "      <td>Al-Sisi has denied Israeli reports stating tha...</td>\n",
       "      <td>Apple Stores to Keep Gold “Edition” Apple Watc...</td>\n",
       "      <td>unrelated</td>\n",
       "    </tr>\n",
       "    <tr>\n",
       "      <th>4</th>\n",
       "      <td>1</td>\n",
       "      <td>Al-Sisi has denied Israeli reports stating tha...</td>\n",
       "      <td>South Korean woman's hair 'eaten' by robot vac...</td>\n",
       "      <td>unrelated</td>\n",
       "    </tr>\n",
       "  </tbody>\n",
       "</table>\n",
       "</div>"
      ],
      "text/plain": [
       "   Body ID                                        articleBody  \\\n",
       "0        1  Al-Sisi has denied Israeli reports stating tha...   \n",
       "1        1  Al-Sisi has denied Israeli reports stating tha...   \n",
       "2        1  Al-Sisi has denied Israeli reports stating tha...   \n",
       "3        1  Al-Sisi has denied Israeli reports stating tha...   \n",
       "4        1  Al-Sisi has denied Israeli reports stating tha...   \n",
       "\n",
       "                                            Headline     Stance  \n",
       "0  Apple installing safes in-store to protect gol...  unrelated  \n",
       "1  El-Sisi denies claims he'll give Sinai land to...      agree  \n",
       "2  Apple to keep gold Watch Editions in special i...  unrelated  \n",
       "3  Apple Stores to Keep Gold “Edition” Apple Watc...  unrelated  \n",
       "4  South Korean woman's hair 'eaten' by robot vac...  unrelated  "
      ]
     },
     "execution_count": 3,
     "metadata": {},
     "output_type": "execute_result"
    }
   ],
   "source": [
    "test_bodies = pd.read_csv('./data/competition_test_bodies.csv')\n",
    "test_stances = pd.read_csv('./data/competition_test_stances.csv')\n",
    "df_test = pd.merge(test_bodies, test_stances, on=['Body ID'])\n",
    "print(\"%d Testing Data\"%len(df_test))\n",
    "df_test.head()"
   ]
  },
  {
   "cell_type": "code",
   "execution_count": 4,
   "metadata": {},
   "outputs": [],
   "source": [
    "vocab = {\n",
    "    'size': None,\n",
    "    'word2idx': None,\n",
    "}\n",
    "\n",
    "data = {\n",
    "    'train': {\n",
    "        'headline': {\n",
    "            'X': None,\n",
    "            'X_tfidf': None,\n",
    "        },\n",
    "        'body': {\n",
    "            'X': None,\n",
    "            'X_tfidf': None,\n",
    "        },\n",
    "        'y': None,\n",
    "    },\n",
    "    'val': {\n",
    "        'headline': {\n",
    "            'X': None,\n",
    "            'X_tfidf': None,\n",
    "        },\n",
    "        'body': {\n",
    "            'X': None,\n",
    "            'X_tfidf': None,\n",
    "        },\n",
    "        'y': None,\n",
    "    },\n",
    "    'test': {\n",
    "        'headline': {\n",
    "            'X': None,\n",
    "            'X_tfidf': None,\n",
    "        },\n",
    "        'body': {\n",
    "            'X': None,\n",
    "            'X_tfidf': None,\n",
    "        },\n",
    "        'y': None,\n",
    "    },\n",
    "}"
   ]
  },
  {
   "cell_type": "code",
   "execution_count": 5,
   "metadata": {},
   "outputs": [
    {
     "name": "stdout",
     "output_type": "stream",
     "text": [
      "30.79 secs ==> pipe\n",
      "11.84 secs ==> pipe\n"
     ]
    }
   ],
   "source": [
    "VOCAB_SIZE = 20000\n",
    "\n",
    "def clean_str(text,\n",
    "    filters=\"\"\"!\"#$%&()*+,-./:;<=>?@[\\\\]^_`{|}~\\t\\n‘'’′-”–—£“\"\"\"):\n",
    "    \n",
    "    text = text.lower()\n",
    "    \n",
    "    translate_map = str.maketrans(filters, ' ' * len(filters))\n",
    "    text = text.translate(translate_map)\n",
    "    \n",
    "    text = re.sub('[0-9]+', ' <number> ', text)\n",
    "    text = re.sub('\\s+', ' ', text)\n",
    "    \n",
    "    text = text.strip()\n",
    "    \n",
    "    return text\n",
    "\n",
    "def pipe(df, vocab, make_vocab):\n",
    "    t0 = time.time()\n",
    "    m = {'headline': 'Headline', 'body': 'articleBody'}\n",
    "    \n",
    "    head_docum_list = df[m['headline']].values.tolist()\n",
    "    head_docum_list = [clean_str(docum) for docum in head_docum_list]\n",
    "    \n",
    "    body_docum_list = df[m['body']].values.tolist()\n",
    "    body_docum_list = [clean_str(docum) for docum in body_docum_list]\n",
    "    \n",
    "    if make_vocab:\n",
    "        word2freq = Counter(' '.join(head_docum_list+body_docum_list).split())\n",
    "        vocab['word2idx'] = {\n",
    "            w: i for i, w in enumerate(['<pad>','<unk>'] + [w for w, freq in word2freq.most_common(VOCAB_SIZE)])}\n",
    "        vocab['size'] = len(vocab['word2idx'])\n",
    "    \n",
    "    head_idx_list = [[vocab['word2idx'].get(w, 1) for w in d.split()] for d in head_docum_list]\n",
    "    body_idx_list = [[vocab['word2idx'].get(w, 1) for w in d.split()] for d in body_docum_list]\n",
    "    print(\"%.2f secs ==> pipe\"%(time.time()-t0))\n",
    "    \n",
    "    return head_idx_list, body_idx_list\n",
    "\n",
    "\n",
    "def make_y(df):\n",
    "    label2idx = {'agree': 0, 'disagree': 1, 'discuss': 2, 'unrelated': 3}\n",
    "    return np.array([label2idx[label] for label in df['Stance'].values])\n",
    "\n",
    "data['train']['headline']['X'], data['train']['body']['X'] = pipe(df_train, vocab, make_vocab=True)\n",
    "data['train']['y'] = make_y(df_train)\n",
    "\n",
    "data['test']['headline']['X'], data['test']['body']['X'] = pipe(df_test, vocab, make_vocab=False)\n",
    "data['test']['y'] = make_y(df_test)"
   ]
  },
  {
   "cell_type": "markdown",
   "metadata": {},
   "source": [
    "## Subtask 1"
   ]
  },
  {
   "cell_type": "code",
   "execution_count": 6,
   "metadata": {},
   "outputs": [
    {
     "name": "stdout",
     "output_type": "stream",
     "text": [
      "Training Data | Label_3: 74.73% | Label_2: 16.68% | Label_0: 6.92% | Label_1: 1.67% |\n",
      "Validation Data | Label_3: 58.74% | Label_2: 28.13% | Label_0: 11.30% | Label_1: 1.82% |\n"
     ]
    }
   ],
   "source": [
    "def train_test_split(*arrays, train_size=0.9):\n",
    "    n_samples = len(arrays[0])\n",
    "    cutoff = int(n_samples * train_size)\n",
    "    return [(array[:cutoff], array[cutoff:]) for array in arrays]\n",
    "\n",
    "def check_ratio(y):\n",
    "    return ' '.join(['Label_%d: %.2f%% |'%(l, c/len(y)*100) for l, c in Counter(y).most_common()])\n",
    "\n",
    "[(data['train']['headline']['X'], data['val']['headline']['X']),\n",
    " (data['train']['body']['X'], data['val']['body']['X']),\n",
    " (data['train']['y'], data['val']['y'])] = train_test_split(\n",
    "    data['train']['headline']['X'], data['train']['body']['X'], data['train']['y'])\n",
    "\n",
    "print('Training Data |', check_ratio(data['train']['y']))\n",
    "print('Validation Data |', check_ratio(data['val']['y']))"
   ]
  },
  {
   "cell_type": "markdown",
   "metadata": {},
   "source": [
    "## Subtask 2"
   ]
  },
  {
   "cell_type": "markdown",
   "metadata": {},
   "source": [
    "TFIDF"
   ]
  },
  {
   "cell_type": "code",
   "execution_count": 7,
   "metadata": {},
   "outputs": [
    {
     "name": "stdout",
     "output_type": "stream",
     "text": [
      "27.55 secs ==> build_tfidf\n",
      "32.96 secs ==> build_tfidf\n",
      "1.54 secs ==> build_tfidf\n",
      "2.66 secs ==> build_tfidf\n",
      "8.25 secs ==> build_tfidf\n",
      "17.64 secs ==> build_tfidf\n"
     ]
    }
   ],
   "source": [
    "def build_tfidf(X):\n",
    "    t0 = time.time()\n",
    "    tf = np.zeros((len(X), vocab['size']))\n",
    "    for i, indices in enumerate(X):\n",
    "        for idx in indices:\n",
    "            tf[i, idx] += (1 / len(indices))\n",
    "    idf = np.sum(np.sign(tf), axis=0) # non-zero count\n",
    "    idf = np.log10(len(X) / (idf + 1.))\n",
    "    tfidf = tf * idf[np.newaxis, :]\n",
    "    print(\"%.2f secs ==> build_tfidf\"%(time.time()-t0))\n",
    "    return tfidf\n",
    "\n",
    "data['train']['headline']['X_tfidf'] = build_tfidf(data['train']['headline']['X'])\n",
    "data['train']['body']['X_tfidf'] = build_tfidf(data['train']['body']['X'])\n",
    "data['val']['headline']['X_tfidf'] = build_tfidf(data['val']['headline']['X'])\n",
    "data['val']['body']['X_tfidf'] = build_tfidf(data['val']['body']['X'])\n",
    "data['test']['headline']['X_tfidf'] = build_tfidf(data['test']['headline']['X'])\n",
    "data['test']['body']['X_tfidf'] = build_tfidf(data['test']['body']['X'])"
   ]
  },
  {
   "cell_type": "code",
   "execution_count": 8,
   "metadata": {},
   "outputs": [
    {
     "name": "stdout",
     "output_type": "stream",
     "text": [
      "Cosine similarity: 0.25 | Agrees\n",
      "Cosine similarity: 0.23 | Disagrees\n",
      "Cosine similarity: 0.23 | Discusses\n",
      "Cosine similarity: 0.01 | Unrelated\n"
     ]
    }
   ],
   "source": [
    "def cos_sim(vec1, vec2):\n",
    "    return np.sum(np.multiply(vec1, vec2)) / (np.linalg.norm(vec1)*np.linalg.norm(vec2))\n",
    "\n",
    "def cos_sim_feat(mat1, mat2):\n",
    "    return np.array([cos_sim(vec1, vec2) for vec1, vec2 in zip(mat1, mat2)])\n",
    "\n",
    "cos_sim_tfidf_train = cos_sim_feat(\n",
    "    data['train']['headline']['X_tfidf'], data['train']['body']['X_tfidf'])\n",
    "cos_sim_tfidf_val = cos_sim_feat(\n",
    "    data['val']['headline']['X_tfidf'], data['val']['body']['X_tfidf'])\n",
    "cos_sim_tfidf_test = cos_sim_feat(\n",
    "    data['test']['headline']['X_tfidf'], data['test']['body']['X_tfidf'])\n",
    "print('Cosine similarity: %.2f | Agrees'%(cos_sim_tfidf_train[data['train']['y']==0]).mean())\n",
    "print('Cosine similarity: %.2f | Disagrees'%(cos_sim_tfidf_train[data['train']['y']==1]).mean())\n",
    "print('Cosine similarity: %.2f | Discusses'%(cos_sim_tfidf_train[data['train']['y']==2]).mean())\n",
    "print('Cosine similarity: %.2f | Unrelated'%(cos_sim_tfidf_train[data['train']['y']==3]).mean())"
   ]
  },
  {
   "cell_type": "markdown",
   "metadata": {},
   "source": [
    "## Subtask 3"
   ]
  },
  {
   "cell_type": "markdown",
   "metadata": {},
   "source": [
    "cross entropy between language models"
   ]
  },
  {
   "cell_type": "code",
   "execution_count": 9,
   "metadata": {},
   "outputs": [
    {
     "name": "stdout",
     "output_type": "stream",
     "text": [
      "KL: 0.89 | Agrees\n",
      "KL: 0.90 | Disagrees\n",
      "KL: 0.93 | Discusses\n",
      "KL: 1.53 | Unrelated\n"
     ]
    }
   ],
   "source": [
    "def unigram(sent):\n",
    "    lm = {w: c/len(sent) for w, c in Counter(sent).items()}\n",
    "    return lm\n",
    "\n",
    "def kl_feat(headlines, bodys):\n",
    "    kl_div = []\n",
    "    for headline, body in zip(headlines, bodys):\n",
    "        temp = 0\n",
    "        lm_headline = unigram(headline)\n",
    "        lm_body = unigram(body)\n",
    "        for w, proba in lm_headline.items():\n",
    "            temp -= proba * np.log(lm_body.get(w, 1e-8))\n",
    "        kl_div.append(temp / len(lm_headline))\n",
    "    return np.array(kl_div)\n",
    "\n",
    "kl_div_train = kl_feat(data['train']['headline']['X'], data['train']['body']['X'])\n",
    "kl_div_val = kl_feat(data['val']['headline']['X'], data['val']['body']['X'])\n",
    "kl_div_test = kl_feat(data['test']['headline']['X'], data['test']['body']['X'])\n",
    "\n",
    "print('KL: %.2f | Agrees'%(kl_div_train[data['train']['y']==0]).mean())\n",
    "print('KL: %.2f | Disagrees'%(kl_div_train[data['train']['y']==1]).mean())\n",
    "print('KL: %.2f | Discusses'%(kl_div_train[data['train']['y']==2]).mean())\n",
    "print('KL: %.2f | Unrelated'%(kl_div_train[data['train']['y']==3]).mean())"
   ]
  },
  {
   "cell_type": "markdown",
   "metadata": {},
   "source": [
    "## Subtask 4"
   ]
  },
  {
   "cell_type": "markdown",
   "metadata": {},
   "source": [
    "Common Word Count"
   ]
  },
  {
   "cell_type": "code",
   "execution_count": 10,
   "metadata": {},
   "outputs": [],
   "source": [
    "def common_count(list_1, list_2):\n",
    "    return len(list(set(list_1).intersection(list_2)))\n",
    "\n",
    "def common_count_feat(mat1, mat2):\n",
    "    return np.array([common_count(vec1, vec2) for vec1, vec2 in zip(mat1, mat2)])"
   ]
  },
  {
   "cell_type": "code",
   "execution_count": 11,
   "metadata": {},
   "outputs": [
    {
     "name": "stdout",
     "output_type": "stream",
     "text": [
      "Common count: 7.82 | Agrees\n",
      "Common count: 7.54 | Disagrees\n",
      "Common count: 7.50 | Discusses\n",
      "Common count: 2.72 | Unrelated\n"
     ]
    }
   ],
   "source": [
    "common_count_train = common_count_feat(data['train']['headline']['X'], data['train']['body']['X'])\n",
    "common_count_val = common_count_feat(data['val']['headline']['X'], data['val']['body']['X'])\n",
    "common_count_test = common_count_feat(data['test']['headline']['X'], data['test']['body']['X'])\n",
    "\n",
    "print('Common count: %.2f | Agrees'%(common_count_train[data['train']['y']==0]).mean())\n",
    "print('Common count: %.2f | Disagrees'%(common_count_train[data['train']['y']==1]).mean())\n",
    "print('Common count: %.2f | Discusses'%(common_count_train[data['train']['y']==2]).mean())\n",
    "print('Common count: %.2f | Unrelated'%(common_count_train[data['train']['y']==3]).mean())"
   ]
  },
  {
   "cell_type": "markdown",
   "metadata": {},
   "source": [
    "Euclidean Distance"
   ]
  },
  {
   "cell_type": "code",
   "execution_count": 12,
   "metadata": {},
   "outputs": [
    {
     "name": "stdout",
     "output_type": "stream",
     "text": [
      "Euclidean Distance: 0.62 | Agrees\n",
      "Euclidean Distance: 0.61 | Disagrees\n",
      "Euclidean Distance: 0.58 | Discusses\n",
      "Euclidean Distance: 0.62 | Unrelated\n"
     ]
    }
   ],
   "source": [
    "def e_dist(vec1, vec2):\n",
    "    return np.sqrt(np.sum(np.square((vec1 - vec2))))\n",
    "\n",
    "def e_dist_feat(mat1, mat2):\n",
    "    return np.array([e_dist(vec1, vec2) for vec1, vec2 in zip(mat1, mat2)])\n",
    "\n",
    "e_dist_tfidf_train = e_dist_feat(data['train']['headline']['X_tfidf'], data['train']['body']['X_tfidf'])\n",
    "e_dist_tfidf_val = e_dist_feat(data['val']['headline']['X_tfidf'], data['val']['body']['X_tfidf'])\n",
    "e_dist_tfidf_test = e_dist_feat(data['test']['headline']['X_tfidf'], data['test']['body']['X_tfidf'])\n",
    "\n",
    "print('Euclidean Distance: %.2f | Agrees'%(e_dist_tfidf_train[data['train']['y']==0]).mean())\n",
    "print('Euclidean Distance: %.2f | Disagrees'%(e_dist_tfidf_train[data['train']['y']==1]).mean())\n",
    "print('Euclidean Distance: %.2f | Discusses'%(e_dist_tfidf_train[data['train']['y']==2]).mean())\n",
    "print('Euclidean Distance: %.2f | Unrelated'%(e_dist_tfidf_train[data['train']['y']==3]).mean())"
   ]
  },
  {
   "cell_type": "markdown",
   "metadata": {},
   "source": [
    "## Subtask 5"
   ]
  },
  {
   "cell_type": "code",
   "execution_count": 13,
   "metadata": {},
   "outputs": [],
   "source": [
    "def box_plot(data, labels, y_name):\n",
    "    fig = plt.figure()\n",
    "    ax = fig.add_subplot(111)\n",
    "    ax.boxplot(data)\n",
    "    ax.set_xticklabels(labels)\n",
    "    ax.set_title(y_name)"
   ]
  },
  {
   "cell_type": "markdown",
   "metadata": {},
   "source": [
    "TF-IDF"
   ]
  },
  {
   "cell_type": "code",
   "execution_count": 14,
   "metadata": {},
   "outputs": [
    {
     "data": {
      "image/png": "[encoded data removed]",
      "text/plain": [
       "<matplotlib.figure.Figure at 0x115be6d30>"
      ]
     },
     "metadata": {},
     "output_type": "display_data"
    }
   ],
   "source": [
    "box_plot([cos_sim_tfidf_train[data['train']['y']==0], cos_sim_tfidf_train[data['train']['y']==1],\n",
    "          cos_sim_tfidf_train[data['train']['y']==2], cos_sim_tfidf_train[data['train']['y']==3]],\n",
    "          ['agree', 'disagree', 'discuss', 'unrelated'], 'cosine similarity')"
   ]
  },
  {
   "cell_type": "markdown",
   "metadata": {},
   "source": [
    "KL Divergence"
   ]
  },
  {
   "cell_type": "code",
   "execution_count": 15,
   "metadata": {},
   "outputs": [
    {
     "data": {
      "image/png": "[encoded data removed]",
      "text/plain": [
       "<matplotlib.figure.Figure at 0x115be62e8>"
      ]
     },
     "metadata": {},
     "output_type": "display_data"
    }
   ],
   "source": [
    "box_plot([kl_div_train[data['train']['y']==0], kl_div_train[data['train']['y']==1],\n",
    "          kl_div_train[data['train']['y']==2], kl_div_train[data['train']['y']==3]],\n",
    "          ['agree', 'disagree', 'discuss', 'unrelated'], 'KL divergence')"
   ]
  },
  {
   "cell_type": "markdown",
   "metadata": {},
   "source": [
    "## Subtask 6"
   ]
  },
  {
   "cell_type": "code",
   "execution_count": 16,
   "metadata": {},
   "outputs": [],
   "source": [
    "def sigmoid(z):\n",
    "    return 1.0 / (1 + np.exp(-z))\n",
    "\n",
    "class LogisticRegression:\n",
    "    def __init__(self, lr=1e-3):\n",
    "        self.lr = lr\n",
    "    \n",
    "    def init_weight(self, m):\n",
    "        self.W = np.random.normal(size=(m, 1))\n",
    "        self.b = 0.01\n",
    "    \n",
    "    def fit(self, X, y, steps):\n",
    "        self.init_weight(X.shape[1])\n",
    "        costs = []\n",
    "        for i in range(steps):\n",
    "            y_ = self.forward(X)\n",
    "            cost = self.backward(X, y, y_)\n",
    "            costs.append(cost)\n",
    "        return costs\n",
    "            \n",
    "    def predict(self, X):\n",
    "        return self.forward(X)\n",
    "    \n",
    "    def forward(self, X):\n",
    "        return sigmoid(np.dot(X, self.W) + self.b)\n",
    "    \n",
    "    def backward(self, X, y, y_):\n",
    "        m = X.shape[0]\n",
    "        cost = (-1.0 / m) * np.sum(y * np.log(y_) + (1-y) * np.log(1-y_))\n",
    "        dz = y_ - y\n",
    "        dW = (1.0 / m) * np.dot(X.T, dz)\n",
    "        db = (1.0 / m) * dz.sum()\n",
    "        self.W = self.W - self.lr * dW\n",
    "        self.b = self.b - self.lr * db\n",
    "        return cost"
   ]
  },
  {
   "cell_type": "markdown",
   "metadata": {},
   "source": [
    "## Subtask 7"
   ]
  },
  {
   "cell_type": "code",
   "execution_count": 17,
   "metadata": {},
   "outputs": [],
   "source": [
    "def scale(mat):\n",
    "    return (mat - np.mean(mat, axis=0)) / np.std(mat, axis=0)\n",
    "\n",
    "X_train = np.concatenate([\n",
    "    cos_sim_tfidf_train[:, np.newaxis],\n",
    "    common_count_train[:, np.newaxis],\n",
    "    e_dist_tfidf_train[:, np.newaxis],\n",
    "    kl_div_train[:, np.newaxis],\n",
    "], axis=1)\n",
    "\n",
    "X_val = np.concatenate([\n",
    "    cos_sim_tfidf_val[:, np.newaxis],\n",
    "    common_count_val[:, np.newaxis],\n",
    "    e_dist_tfidf_val[:, np.newaxis],\n",
    "    kl_div_val[:, np.newaxis],\n",
    "], axis=1)\n",
    "\n",
    "X_test = np.concatenate([\n",
    "    cos_sim_tfidf_test[:, np.newaxis],\n",
    "    common_count_test[:, np.newaxis],\n",
    "    e_dist_tfidf_test[:, np.newaxis],\n",
    "    kl_div_test[:, np.newaxis],\n",
    "], axis=1)\n",
    "\n",
    "X_train = scale(X_train)\n",
    "X_val = scale(X_val)\n",
    "X_test = scale(X_test)"
   ]
  },
  {
   "cell_type": "code",
   "execution_count": 18,
   "metadata": {},
   "outputs": [
    {
     "name": "stdout",
     "output_type": "stream",
     "text": [
      "(44974, 4) (44974, 4) (4998, 4) (4998, 4) (25413, 4) (25413, 4)\n"
     ]
    }
   ],
   "source": [
    "def to_one_hot(y, num_classes):\n",
    "    n = y.shape[0]\n",
    "    one_hot = np.zeros((n, num_classes), dtype=np.float32)\n",
    "    one_hot[np.arange(n), y] = 1\n",
    "    return one_hot\n",
    "\n",
    "y_train = to_one_hot(data['train']['y'], 4)\n",
    "y_val = to_one_hot(data['val']['y'], 4)\n",
    "y_test = to_one_hot(data['test']['y'], 4)\n",
    "\n",
    "print(X_train.shape, y_train.shape, X_val.shape, y_val.shape, X_test.shape, y_test.shape)"
   ]
  },
  {
   "cell_type": "code",
   "execution_count": 19,
   "metadata": {},
   "outputs": [],
   "source": [
    "from sklearn.metrics import classification_report\n",
    "\n",
    "def down_sample(X, y):\n",
    "    y_pos, y_neg, X_pos, X_neg = y[y==1], y[y==0], X[y==1], X[y==0]\n",
    "    if len(y_pos) < len(y_neg):\n",
    "        X_ = np.concatenate([X_pos, X_neg[:len(y_pos)]], 0)\n",
    "        y_ = np.concatenate([y_pos, y_neg[:len(y_pos)]])\n",
    "    else:\n",
    "        X_ = np.concatenate([X_pos[:len(y_neg)], X_neg], 0)\n",
    "        y_ = np.concatenate([y_pos[:len(y_neg)], y_neg])\n",
    "    return X_, y_\n",
    "\n",
    "def evaluation(clfs):\n",
    "    y_test_pred = []\n",
    "    for i in range(4):\n",
    "        clf = clfs[i]\n",
    "        _X_train, _y_train = down_sample(X_train, y_train[:, i])\n",
    "        costs = clf.fit(_X_train, _y_train[:, np.newaxis], steps=20000)\n",
    "        y_test_pred.append(clf.predict(X_test))\n",
    "        plt.plot(costs, label='class %d'%i)\n",
    "    plt.legend()\n",
    "    plt.ylabel('Loss')\n",
    "    plt.xlabel('Step')\n",
    "    y_test_pred = np.argmax(np.concatenate(y_test_pred, -1), -1)\n",
    "    print('Test Set Accuracy: %.3f' % ((y_test_pred==data['test']['y']).mean()))\n",
    "    print()\n",
    "    print(classification_report(data['test']['y'], y_test_pred,\n",
    "                                target_names=['agree','disagree','discuss','unrelated']))"
   ]
  },
  {
   "cell_type": "code",
   "execution_count": 20,
   "metadata": {},
   "outputs": [
    {
     "name": "stdout",
     "output_type": "stream",
     "text": [
      "Test Set Accuracy: 0.819\n",
      "\n",
      "             precision    recall  f1-score   support\n",
      "\n",
      "      agree       0.29      0.36      0.32      1903\n",
      "   disagree       0.06      0.04      0.05       697\n",
      "    discuss       0.60      0.52      0.56      4464\n",
      "  unrelated       0.94      0.97      0.96     18349\n",
      "\n",
      "avg / total       0.81      0.82      0.81     25413\n",
      "\n"
     ]
    },
    {
     "data": {
      "image/png": "[encoded data removed]",
      "text/plain": [
       "<matplotlib.figure.Figure at 0x115721198>"
      ]
     },
     "metadata": {},
     "output_type": "display_data"
    }
   ],
   "source": [
    "evaluation([LogisticRegression()]*4)"
   ]
  },
  {
   "cell_type": "code",
   "execution_count": null,
   "metadata": {},
   "outputs": [],
   "source": []
  }
 ],
 "metadata": {
  "kernelspec": {
   "display_name": "Python 3",
   "language": "python",
   "name": "python3"
  },
  "language_info": {
   "codemirror_mode": {
    "name": "ipython",
    "version": 3
   },
   "file_extension": ".py",
   "mimetype": "text/x-python",
   "name": "python",
   "nbconvert_exporter": "python",
   "pygments_lexer": "ipython3",
   "version": "3.6.3"
  }
 },
 "nbformat": 4,
 "nbformat_minor": 2
}
